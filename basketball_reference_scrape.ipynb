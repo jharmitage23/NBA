{
 "cells": [
  {
   "cell_type": "markdown",
   "metadata": {},
   "source": [
    "Python scraper for basketball reference"
   ]
  },
  {
   "cell_type": "code",
   "execution_count": null,
   "metadata": {
    "collapsed": true
   },
   "outputs": [],
   "source": [
    "import requests\n",
    "from bs4 import BeautifulSoup\n",
    "import pandas as pd\n",
    "import numpy as np\n",
    "import re"
   ]
  },
  {
   "cell_type": "code",
   "execution_count": null,
   "metadata": {
    "collapsed": true
   },
   "outputs": [],
   "source": [
    "def bref_scrape(year, table_type):\n",
    "    \n",
    "    \n",
    "    \"\"\"\n",
    "    Scrapes basketball-reference data\n",
    "    \n",
    "    Parameters:\n",
    "    -----------\n",
    "    year: int\n",
    "        NBA season to scrape\n",
    "        Example:\n",
    "            1976-77 nba season is 1977\n",
    "            2009-10 nba season is 2010\n",
    "    table_type: str\n",
    "        options -> {'totals', 'advanced', 'per_game', 'per_minute', 'per_poss'}\n",
    "    \n",
    "    Returns:\n",
    "    --------\n",
    "    dataframe\n",
    "    \"\"\"\n",
    "    \n",
    "    url = 'https://www.basketball-reference.com/leagues/NBA_{}_{}.html'.format(year, table_type)\n",
    "    req0 = requests.get(url=url)\n",
    "    soup = BeautifulSoup(req0.content, 'lxml')\n",
    "    \n",
    "    # find all the table row (tr) tags, skipping first row\n",
    "    data_ = soup.find_all('tr')[1:]\n",
    "    \n",
    "    # find all table header (th) tags in first row\n",
    "    headers = soup.find_all('tr')[0].find_all('th')\n",
    "\n",
    "    # loop through and get table headers\n",
    "    headers_columns = []\n",
    "    for i in headers:\n",
    "        headers_columns.append(i.get_text())\n",
    "        \n",
    "    player_data = [[td.getText() for td in data_[i].findAll('td')]\n",
    "                    for i in range(len(data_))]\n",
    "    \n",
    "    df = pd.DataFrame(player_data, columns=headers_columns[1:])\n",
    "    df = df.loc[df['Player'] != 'Player'].reset_index(drop=True)\n",
    "    df.dropna(inplace=True)\n",
    "    \n",
    "    df.columns = df.columns.str.replace('%', '_pct').str.replace('/', '_').str.lower()\n",
    "    \n",
    "    # find playerids\n",
    "    playerid_v0 = []\n",
    "\n",
    "    for j in data_:\n",
    "        if len(j.find_all('a')) > 0:\n",
    "            playerid_v0.append(j.find_all('a')[0].get('href'))\n",
    "\n",
    "    playerid_v1 = []\n",
    "\n",
    "    for p in playerid_v0:\n",
    "        playerid_v1.append(p.replace('players/', '').replace('.html', '').split('/')[2])\n",
    "        \n",
    "    df['year'] = year\n",
    "    df['playerid'] = playerid_v1\n",
    "    \n",
    "    # create new dataframe of that holds the frequency that each observation appears\n",
    "    size_df = df.groupby(['player', 'playerid', 'age']).size().reset_index().rename(columns={0: 'freq'})\n",
    "    df1 = pd.merge(df, size_df, how='left', on=['player', 'playerid', 'age'])\n",
    "    \n",
    "    more2_df = df1.loc[df1['freq'] > 1].reset_index(drop=True)\n",
    "    only1_df = df1.loc[df1['freq'] == 1].reset_index(drop=True)\n",
    "    \n",
    "    # keep only observations where team equals TOT\n",
    "    more2_df = more2_df.loc[more2_df['tm'] == 'TOT'].reset_index(drop=True)\n",
    "    \n",
    "    only1_df = pd.concat([only1_df, more2_df], axis=0).reset_index(drop=True)\n",
    "    \n",
    "    only1_df['player'] = only1_df['player'].str.replace('*', '').str.strip()\n",
    "    \n",
    "    #drop empty column names\n",
    "    try:\n",
    "        only1_df.drop('\\xa0', axis=1, inplace=True)\n",
    "    except ValueError:\n",
    "        print('no empty column names')\n",
    "    \n",
    "    # rename most columns to show which table they belong\n",
    "    #     example: g_table_type, mp_table_type, ...\n",
    "    \n",
    "    static = ['player', 'pos', 'age', 'tm', 'year', 'playerid', 'freq']\n",
    "    lst0 = [x for x in only1_df.columns if x not in static]\n",
    "    lst1 = [x + '_' + table_type for x in only1_df.columns if x not in static]\n",
    "\n",
    "    col_dt = dict(list(zip(lst0, lst1)))\n",
    "    only1_df.rename(columns=col_dt, inplace=True)\n",
    "    \n",
    "    return only1_df"
   ]
  },
  {
   "cell_type": "code",
   "execution_count": null,
   "metadata": {},
   "outputs": [],
   "source": [
    "A = bref_scrape(year=1992, table_type='totals')"
   ]
  },
  {
   "cell_type": "code",
   "execution_count": null,
   "metadata": {},
   "outputs": [],
   "source": [
    "A.head()"
   ]
  }
 ],
 "metadata": {
  "kernelspec": {
   "display_name": "Python 3",
   "language": "python",
   "name": "python3"
  },
  "language_info": {
   "codemirror_mode": {
    "name": "ipython",
    "version": 3
   },
   "file_extension": ".py",
   "mimetype": "text/x-python",
   "name": "python",
   "nbconvert_exporter": "python",
   "pygments_lexer": "ipython3",
   "version": "3.6.2"
  }
 },
 "nbformat": 4,
 "nbformat_minor": 2
}
