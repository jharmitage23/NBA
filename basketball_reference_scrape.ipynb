{
 "cells": [
  {
   "cell_type": "code",
   "execution_count": 1,
   "metadata": {
    "collapsed": true
   },
   "outputs": [],
   "source": [
    "import requests\n",
    "from bs4 import BeautifulSoup\n",
    "import pandas as pd\n",
    "import numpy as np\n",
    "import re"
   ]
  },
  {
   "cell_type": "code",
   "execution_count": 2,
   "metadata": {
    "collapsed": true
   },
   "outputs": [],
   "source": [
    "url = 'https://www.basketball-reference.com/leagues/NBA_2015_totals.html'"
   ]
  },
  {
   "cell_type": "code",
   "execution_count": 3,
   "metadata": {
    "collapsed": true
   },
   "outputs": [],
   "source": [
    "req0 = requests.get(url=url)\n",
    "soup = BeautifulSoup(req0.content, 'lxml')"
   ]
  },
  {
   "cell_type": "code",
   "execution_count": 4,
   "metadata": {
    "collapsed": true
   },
   "outputs": [],
   "source": [
    "data_ = soup.find_all('tr')[1:]"
   ]
  },
  {
   "cell_type": "code",
   "execution_count": 5,
   "metadata": {
    "collapsed": true
   },
   "outputs": [],
   "source": [
    "headers = soup.find_all('tr')[0].find_all('th')\n",
    "\n",
    "headers_columns = []\n",
    "for i in headers:\n",
    "    headers_columns.append(i.get_text())"
   ]
  },
  {
   "cell_type": "code",
   "execution_count": 6,
   "metadata": {
    "collapsed": true
   },
   "outputs": [],
   "source": [
    "player_data = [[td.getText() for td in data_[i].findAll('td')]\n",
    "                for i in range(len(data_))]"
   ]
  },
  {
   "cell_type": "code",
   "execution_count": 7,
   "metadata": {
    "collapsed": true
   },
   "outputs": [],
   "source": [
    "df = pd.DataFrame(player_data, columns=headers_columns[1:])\n",
    "df = df.loc[df['Player'] != 'Player'].reset_index(drop=True)\n",
    "df.dropna(inplace=True)"
   ]
  },
  {
   "cell_type": "code",
   "execution_count": 8,
   "metadata": {
    "collapsed": true
   },
   "outputs": [],
   "source": [
    "df.columns = df.columns.str.replace('%', '_pct').str.lower()"
   ]
  },
  {
   "cell_type": "code",
   "execution_count": 9,
   "metadata": {
    "collapsed": true
   },
   "outputs": [],
   "source": [
    "# data_[24].find_all('a')[0].get('href')\n",
    "# data_[24].find_all('a')\n",
    "\n",
    "playerid_v0 = []\n",
    "\n",
    "for j in data_:\n",
    "    if len(j.find_all('a')) > 0:\n",
    "        playerid_v0.append(j.find_all('a')[0].get('href'))\n",
    "    \n",
    "\n",
    "playerid_v1 = []\n",
    "\n",
    "for p in playerid_v0:\n",
    "    playerid_v1.append(p.replace('players/', '').replace('.html', '').split('/')[2])"
   ]
  },
  {
   "cell_type": "code",
   "execution_count": 10,
   "metadata": {
    "collapsed": true
   },
   "outputs": [],
   "source": [
    "df['year'] = 2015\n",
    "df['playerid'] = playerid_v1\n"
   ]
  },
  {
   "cell_type": "code",
   "execution_count": 11,
   "metadata": {},
   "outputs": [
    {
     "data": {
      "text/plain": [
       "(651, 651)"
      ]
     },
     "execution_count": 11,
     "metadata": {},
     "output_type": "execute_result"
    }
   ],
   "source": [
    "len(df), len(playerid_v1)"
   ]
  },
  {
   "cell_type": "code",
   "execution_count": 12,
   "metadata": {
    "collapsed": true
   },
   "outputs": [],
   "source": [
    "size_df = df.groupby(['player', 'playerid', 'pos', 'age']).size().reset_index().rename(columns={0: 'freq'})"
   ]
  },
  {
   "cell_type": "code",
   "execution_count": 13,
   "metadata": {},
   "outputs": [
    {
     "data": {
      "text/html": [
       "<div>\n",
       "<style>\n",
       "    .dataframe thead tr:only-child th {\n",
       "        text-align: right;\n",
       "    }\n",
       "\n",
       "    .dataframe thead th {\n",
       "        text-align: left;\n",
       "    }\n",
       "\n",
       "    .dataframe tbody tr th {\n",
       "        vertical-align: top;\n",
       "    }\n",
       "</style>\n",
       "<table border=\"1\" class=\"dataframe\">\n",
       "  <thead>\n",
       "    <tr style=\"text-align: right;\">\n",
       "      <th></th>\n",
       "      <th>player</th>\n",
       "      <th>playerid</th>\n",
       "      <th>pos</th>\n",
       "      <th>age</th>\n",
       "      <th>freq</th>\n",
       "    </tr>\n",
       "  </thead>\n",
       "  <tbody>\n",
       "    <tr>\n",
       "      <th>0</th>\n",
       "      <td>A.J. Price</td>\n",
       "      <td>priceaj01</td>\n",
       "      <td>PG</td>\n",
       "      <td>28</td>\n",
       "      <td>4</td>\n",
       "    </tr>\n",
       "    <tr>\n",
       "      <th>1</th>\n",
       "      <td>Aaron Brooks</td>\n",
       "      <td>brookaa01</td>\n",
       "      <td>PG</td>\n",
       "      <td>30</td>\n",
       "      <td>1</td>\n",
       "    </tr>\n",
       "    <tr>\n",
       "      <th>2</th>\n",
       "      <td>Aaron Gordon</td>\n",
       "      <td>gordoaa01</td>\n",
       "      <td>PF</td>\n",
       "      <td>19</td>\n",
       "      <td>1</td>\n",
       "    </tr>\n",
       "    <tr>\n",
       "      <th>3</th>\n",
       "      <td>Adreian Payne</td>\n",
       "      <td>paynead01</td>\n",
       "      <td>PF</td>\n",
       "      <td>23</td>\n",
       "      <td>3</td>\n",
       "    </tr>\n",
       "    <tr>\n",
       "      <th>4</th>\n",
       "      <td>Al Horford</td>\n",
       "      <td>horfoal01</td>\n",
       "      <td>C</td>\n",
       "      <td>28</td>\n",
       "      <td>1</td>\n",
       "    </tr>\n",
       "  </tbody>\n",
       "</table>\n",
       "</div>"
      ],
      "text/plain": [
       "          player   playerid pos age  freq\n",
       "0     A.J. Price  priceaj01  PG  28     4\n",
       "1   Aaron Brooks  brookaa01  PG  30     1\n",
       "2   Aaron Gordon  gordoaa01  PF  19     1\n",
       "3  Adreian Payne  paynead01  PF  23     3\n",
       "4     Al Horford  horfoal01   C  28     1"
      ]
     },
     "execution_count": 13,
     "metadata": {},
     "output_type": "execute_result"
    }
   ],
   "source": [
    "size_df.head()"
   ]
  },
  {
   "cell_type": "code",
   "execution_count": 14,
   "metadata": {
    "collapsed": true
   },
   "outputs": [],
   "source": [
    "df0 = pd.merge(df, size_df, how='left', on=['player', 'playerid', 'pos', 'age'])"
   ]
  },
  {
   "cell_type": "code",
   "execution_count": 15,
   "metadata": {
    "collapsed": true
   },
   "outputs": [],
   "source": [
    "more2_df = df0.loc[df0['freq'] > 1].reset_index(drop=True)\n",
    "only1_df = df0.loc[df0['freq'] == 1].reset_index(drop=True)"
   ]
  },
  {
   "cell_type": "code",
   "execution_count": 16,
   "metadata": {
    "collapsed": true
   },
   "outputs": [],
   "source": [
    "more2_df = more2_df.loc[more2_df['tm'] == 'TOT'].reset_index(drop=True)"
   ]
  },
  {
   "cell_type": "code",
   "execution_count": 17,
   "metadata": {
    "collapsed": true
   },
   "outputs": [],
   "source": [
    "only1_df = pd.concat([only1_df, more2_df], axis=0).reset_index(drop=True)"
   ]
  },
  {
   "cell_type": "code",
   "execution_count": 18,
   "metadata": {},
   "outputs": [
    {
     "data": {
      "text/html": [
       "<div>\n",
       "<style>\n",
       "    .dataframe thead tr:only-child th {\n",
       "        text-align: right;\n",
       "    }\n",
       "\n",
       "    .dataframe thead th {\n",
       "        text-align: left;\n",
       "    }\n",
       "\n",
       "    .dataframe tbody tr th {\n",
       "        vertical-align: top;\n",
       "    }\n",
       "</style>\n",
       "<table border=\"1\" class=\"dataframe\">\n",
       "  <thead>\n",
       "    <tr style=\"text-align: right;\">\n",
       "      <th></th>\n",
       "      <th>player</th>\n",
       "      <th>pos</th>\n",
       "      <th>age</th>\n",
       "      <th>tm</th>\n",
       "      <th>g</th>\n",
       "      <th>gs</th>\n",
       "      <th>mp</th>\n",
       "      <th>fg</th>\n",
       "      <th>fga</th>\n",
       "      <th>fg_pct</th>\n",
       "      <th>...</th>\n",
       "      <th>trb</th>\n",
       "      <th>ast</th>\n",
       "      <th>stl</th>\n",
       "      <th>blk</th>\n",
       "      <th>tov</th>\n",
       "      <th>pf</th>\n",
       "      <th>pts</th>\n",
       "      <th>year</th>\n",
       "      <th>playerid</th>\n",
       "      <th>freq</th>\n",
       "    </tr>\n",
       "  </thead>\n",
       "  <tbody>\n",
       "    <tr>\n",
       "      <th>0</th>\n",
       "      <td>Quincy Acy</td>\n",
       "      <td>PF</td>\n",
       "      <td>24</td>\n",
       "      <td>NYK</td>\n",
       "      <td>68</td>\n",
       "      <td>22</td>\n",
       "      <td>1287</td>\n",
       "      <td>152</td>\n",
       "      <td>331</td>\n",
       "      <td>.459</td>\n",
       "      <td>...</td>\n",
       "      <td>301</td>\n",
       "      <td>68</td>\n",
       "      <td>27</td>\n",
       "      <td>22</td>\n",
       "      <td>60</td>\n",
       "      <td>147</td>\n",
       "      <td>398</td>\n",
       "      <td>2015</td>\n",
       "      <td>acyqu01</td>\n",
       "      <td>1</td>\n",
       "    </tr>\n",
       "    <tr>\n",
       "      <th>1</th>\n",
       "      <td>Jordan Adams</td>\n",
       "      <td>SG</td>\n",
       "      <td>20</td>\n",
       "      <td>MEM</td>\n",
       "      <td>30</td>\n",
       "      <td>0</td>\n",
       "      <td>248</td>\n",
       "      <td>35</td>\n",
       "      <td>86</td>\n",
       "      <td>.407</td>\n",
       "      <td>...</td>\n",
       "      <td>28</td>\n",
       "      <td>16</td>\n",
       "      <td>16</td>\n",
       "      <td>7</td>\n",
       "      <td>14</td>\n",
       "      <td>24</td>\n",
       "      <td>94</td>\n",
       "      <td>2015</td>\n",
       "      <td>adamsjo01</td>\n",
       "      <td>1</td>\n",
       "    </tr>\n",
       "    <tr>\n",
       "      <th>2</th>\n",
       "      <td>Steven Adams</td>\n",
       "      <td>C</td>\n",
       "      <td>21</td>\n",
       "      <td>OKC</td>\n",
       "      <td>70</td>\n",
       "      <td>67</td>\n",
       "      <td>1771</td>\n",
       "      <td>217</td>\n",
       "      <td>399</td>\n",
       "      <td>.544</td>\n",
       "      <td>...</td>\n",
       "      <td>523</td>\n",
       "      <td>66</td>\n",
       "      <td>38</td>\n",
       "      <td>86</td>\n",
       "      <td>99</td>\n",
       "      <td>222</td>\n",
       "      <td>537</td>\n",
       "      <td>2015</td>\n",
       "      <td>adamsst01</td>\n",
       "      <td>1</td>\n",
       "    </tr>\n",
       "    <tr>\n",
       "      <th>3</th>\n",
       "      <td>Jeff Adrien</td>\n",
       "      <td>PF</td>\n",
       "      <td>28</td>\n",
       "      <td>MIN</td>\n",
       "      <td>17</td>\n",
       "      <td>0</td>\n",
       "      <td>215</td>\n",
       "      <td>19</td>\n",
       "      <td>44</td>\n",
       "      <td>.432</td>\n",
       "      <td>...</td>\n",
       "      <td>77</td>\n",
       "      <td>15</td>\n",
       "      <td>4</td>\n",
       "      <td>9</td>\n",
       "      <td>9</td>\n",
       "      <td>30</td>\n",
       "      <td>60</td>\n",
       "      <td>2015</td>\n",
       "      <td>adrieje01</td>\n",
       "      <td>1</td>\n",
       "    </tr>\n",
       "    <tr>\n",
       "      <th>4</th>\n",
       "      <td>Alexis Ajinca</td>\n",
       "      <td>C</td>\n",
       "      <td>26</td>\n",
       "      <td>NOP</td>\n",
       "      <td>68</td>\n",
       "      <td>8</td>\n",
       "      <td>957</td>\n",
       "      <td>181</td>\n",
       "      <td>329</td>\n",
       "      <td>.550</td>\n",
       "      <td>...</td>\n",
       "      <td>315</td>\n",
       "      <td>47</td>\n",
       "      <td>21</td>\n",
       "      <td>51</td>\n",
       "      <td>69</td>\n",
       "      <td>151</td>\n",
       "      <td>443</td>\n",
       "      <td>2015</td>\n",
       "      <td>ajincal01</td>\n",
       "      <td>1</td>\n",
       "    </tr>\n",
       "  </tbody>\n",
       "</table>\n",
       "<p>5 rows × 32 columns</p>\n",
       "</div>"
      ],
      "text/plain": [
       "          player pos age   tm   g  gs    mp   fg  fga fg_pct ...   trb ast  \\\n",
       "0     Quincy Acy  PF  24  NYK  68  22  1287  152  331   .459 ...   301  68   \n",
       "1   Jordan Adams  SG  20  MEM  30   0   248   35   86   .407 ...    28  16   \n",
       "2   Steven Adams   C  21  OKC  70  67  1771  217  399   .544 ...   523  66   \n",
       "3    Jeff Adrien  PF  28  MIN  17   0   215   19   44   .432 ...    77  15   \n",
       "4  Alexis Ajinca   C  26  NOP  68   8   957  181  329   .550 ...   315  47   \n",
       "\n",
       "  stl blk tov   pf  pts  year   playerid freq  \n",
       "0  27  22  60  147  398  2015    acyqu01    1  \n",
       "1  16   7  14   24   94  2015  adamsjo01    1  \n",
       "2  38  86  99  222  537  2015  adamsst01    1  \n",
       "3   4   9   9   30   60  2015  adrieje01    1  \n",
       "4  21  51  69  151  443  2015  ajincal01    1  \n",
       "\n",
       "[5 rows x 32 columns]"
      ]
     },
     "execution_count": 18,
     "metadata": {},
     "output_type": "execute_result"
    }
   ],
   "source": [
    "only1_df.head()"
   ]
  },
  {
   "cell_type": "code",
   "execution_count": 41,
   "metadata": {
    "collapsed": true
   },
   "outputs": [],
   "source": [
    "def bref_adv(year, table_type):\n",
    "    \n",
    "    \n",
    "    \"\"\"\n",
    "    Scrapes basketball-reference data\n",
    "    \n",
    "    Parameters:\n",
    "    -----------\n",
    "    year: int\n",
    "        NBA season to scrape\n",
    "        Example:\n",
    "            1976-77 nba season is 1977\n",
    "            2009-10 nba season is 2010\n",
    "    table_type: str\n",
    "        options -> {'totals', 'advanced', 'per_game', 'per_minute', 'per_poss'}\n",
    "    \n",
    "    \"\"\"\n",
    "    \n",
    "    url = 'https://www.basketball-reference.com/leagues/NBA_{}_{}.html'.format(year, table_type)\n",
    "    req0 = requests.get(url=url)\n",
    "    soup = BeautifulSoup(req0.content, 'lxml')\n",
    "    \n",
    "    # find all the table row (tr) tags, skipping first row\n",
    "    data_ = soup.find_all('tr')[1:]\n",
    "    \n",
    "    # find all table header (th) tags in first row\n",
    "    headers = soup.find_all('tr')[0].find_all('th')\n",
    "\n",
    "    # loop through and get table headers\n",
    "    headers_columns = []\n",
    "    for i in headers:\n",
    "        headers_columns.append(i.get_text())\n",
    "        \n",
    "    player_data = [[td.getText() for td in data_[i].findAll('td')]\n",
    "                    for i in range(len(data_))]\n",
    "    \n",
    "    df = pd.DataFrame(player_data, columns=headers_columns[1:])\n",
    "    df = df.loc[df['Player'] != 'Player'].reset_index(drop=True)\n",
    "    df.dropna(inplace=True)\n",
    "    \n",
    "    df.columns = df.columns.str.replace('%', '_pct').str.replace('/', '_').str.lower()\n",
    "    \n",
    "    # find playerids\n",
    "    playerid_v0 = []\n",
    "\n",
    "    for j in data_:\n",
    "        if len(j.find_all('a')) > 0:\n",
    "            playerid_v0.append(j.find_all('a')[0].get('href'))\n",
    "\n",
    "    playerid_v1 = []\n",
    "\n",
    "    for p in playerid_v0:\n",
    "        playerid_v1.append(p.replace('players/', '').replace('.html', '').split('/')[2])\n",
    "        \n",
    "    df['year'] = year\n",
    "    df['playerid'] = playerid_v1\n",
    "    \n",
    "    # create new dataframe of that holds the frequency that each observation appears\n",
    "    size_df = df.groupby(['player', 'playerid', 'age']).size().reset_index().rename(columns={0: 'freq'})\n",
    "    df1 = pd.merge(df, size_df, how='left', on=['player', 'playerid', 'age'])\n",
    "    \n",
    "    more2_df = df1.loc[df0['freq'] > 1].reset_index(drop=True)\n",
    "    only1_df = df1.loc[df0['freq'] == 1].reset_index(drop=True)\n",
    "    \n",
    "    # keep only observations where team equals TOT\n",
    "    more2_df = more2_df.loc[more2_df['tm'] == 'TOT'].reset_index(drop=True)\n",
    "    \n",
    "    only1_df = pd.concat([only1_df, more2_df], axis=0).reset_index(drop=True)\n",
    "    \n",
    "    only1_df['player'] = only1_df['player'].str.replace('*', '').str.strip()\n",
    "    \n",
    "    return only1_df"
   ]
  },
  {
   "cell_type": "code",
   "execution_count": 48,
   "metadata": {
    "collapsed": true
   },
   "outputs": [],
   "source": [
    "A = bref_adv(year=1992, table_type='advanced')"
   ]
  },
  {
   "cell_type": "code",
   "execution_count": null,
   "metadata": {
    "collapsed": true
   },
   "outputs": [],
   "source": []
  },
  {
   "cell_type": "code",
   "execution_count": null,
   "metadata": {
    "collapsed": true
   },
   "outputs": [],
   "source": []
  },
  {
   "cell_type": "code",
   "execution_count": null,
   "metadata": {
    "collapsed": true
   },
   "outputs": [],
   "source": []
  }
 ],
 "metadata": {
  "kernelspec": {
   "display_name": "Python 3",
   "language": "python",
   "name": "python3"
  },
  "language_info": {
   "codemirror_mode": {
    "name": "ipython",
    "version": 3
   },
   "file_extension": ".py",
   "mimetype": "text/x-python",
   "name": "python",
   "nbconvert_exporter": "python",
   "pygments_lexer": "ipython3",
   "version": "3.6.2"
  }
 },
 "nbformat": 4,
 "nbformat_minor": 2
}
