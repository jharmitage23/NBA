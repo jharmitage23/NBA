{
 "cells": [
  {
   "cell_type": "code",
   "execution_count": null,
   "metadata": {
    "collapsed": true
   },
   "outputs": [],
   "source": [
    "import requests\n",
    "from bs4 import BeautifulSoup\n",
    "import pandas as pd\n",
    "import numpy as np\n",
    "import re"
   ]
  },
  {
   "cell_type": "code",
   "execution_count": null,
   "metadata": {
    "collapsed": true
   },
   "outputs": [],
   "source": [
    "def nba_debuts(year, verbose=False):\n",
    "    \n",
    "    \"\"\"\n",
    "    Scrapes basketball-reference to obtain player debuts\n",
    "    \"\"\"\n",
    "    url = 'https://www.basketball-reference.com/leagues/NBA_{}_debut.html'.format(year)\n",
    "    req0 = requests.get(url=url)\n",
    "    soup = BeautifulSoup(req0.content, 'lxml')\n",
    "\n",
    "    data_ = soup.find_all('tr')[1:]\n",
    "\n",
    "    player_data = pd.read_html(str(soup.select('table')), match='Age')[0]\n",
    "    player_data.columns = player_data.columns.droplevel(0)\n",
    "    \n",
    "    playerid = []\n",
    "    for j in data_:\n",
    "        if len(j.find_all('a')) > 0:\n",
    "            pid_v0 = j.find_all('a')[0].get('href')\n",
    "            pid_v1 = pid_v0.replace('players/', '').replace('.html', '').split('/')[2]\n",
    "            playerid.append(pid_v1)\n",
    "    \n",
    "    player_data = player_data.loc[(player_data['Player'] != 'Player') & \n",
    "                                  (player_data['Age'] != 'Shooting')].reset_index(drop=True)\n",
    "    player_data['debut'] = year\n",
    "    player_data['playerid'] = playerid\n",
    "    \n",
    "    player_data.columns = player_data.columns.str.replace('%', '_pct').str.replace('/', '_').str.\\\n",
    "    replace(' ', '_').str.lower().str.strip()\n",
    "    \n",
    "    if verbose:\n",
    "        keep_col = ['playerid', 'player', 'debut', 'age', 'yrs']\n",
    "        return player_data.loc[:, keep_col]\n",
    "    \n",
    "    return player_data"
   ]
  },
  {
   "cell_type": "code",
   "execution_count": null,
   "metadata": {
    "collapsed": true
   },
   "outputs": [],
   "source": [
    "A = nba_debuts(year=2010, verbose=True)"
   ]
  },
  {
   "cell_type": "code",
   "execution_count": null,
   "metadata": {},
   "outputs": [],
   "source": []
  }
 ],
 "metadata": {
  "kernelspec": {
   "display_name": "Python 3",
   "language": "python",
   "name": "python3"
  },
  "language_info": {
   "codemirror_mode": {
    "name": "ipython",
    "version": 3
   },
   "file_extension": ".py",
   "mimetype": "text/x-python",
   "name": "python",
   "nbconvert_exporter": "python",
   "pygments_lexer": "ipython3",
   "version": "3.6.2"
  }
 },
 "nbformat": 4,
 "nbformat_minor": 2
}
